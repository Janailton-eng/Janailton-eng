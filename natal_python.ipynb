{
  "nbformat": 4,
  "nbformat_minor": 0,
  "metadata": {
    "colab": {
      "provenance": [],
      "authorship_tag": "ABX9TyOCxPXVpo1rV2Sau4WFpndG",
      "include_colab_link": true
    },
    "kernelspec": {
      "name": "python3",
      "display_name": "Python 3"
    },
    "language_info": {
      "name": "python"
    }
  },
  "cells": [
    {
      "cell_type": "markdown",
      "metadata": {
        "id": "view-in-github",
        "colab_type": "text"
      },
      "source": [
        "<a href=\"https://colab.research.google.com/github/Janailton-eng/Janailton-eng/blob/main/natal_python.ipynb\" target=\"_parent\"><img src=\"https://colab.research.google.com/assets/colab-badge.svg\" alt=\"Open In Colab\"/></a>"
      ]
    },
    {
      "cell_type": "code",
      "execution_count": 1,
      "metadata": {
        "colab": {
          "base_uri": "https://localhost:8080/"
        },
        "id": "9R5d4mak9gTM",
        "outputId": "ceef7aeb-ec34-4d94-f9b7-1a987e1a2049"
      },
      "outputs": [
        {
          "output_type": "stream",
          "name": "stdout",
          "text": [
            "               *\n",
            "              ***\n",
            "             *****\n",
            "            *******\n",
            "           *********\n",
            "          ***********\n",
            "         *************\n",
            "        ***************\n",
            "       *****************\n",
            "               || \n",
            "               || \n",
            "               || \n",
            "            \\======/\n"
          ]
        }
      ],
      "source": [
        "import numpy as np\n",
        "x = np.arange(7,16)\n",
        "y = np.arange(1,18,2)\n",
        "z = np.column_stack((x[:: -1],y))\n",
        "for i,j in z:\n",
        "    print(' '*i+'*'*j)\n",
        "for r in range(3):\n",
        "    print(' '*13, ' || ')\n",
        "print(' '*12, end = '\\======/')\n",
        "print('')\n"
      ]
    },
    {
      "cell_type": "code",
      "source": [
        "import numpy as np\n",
        "\n",
        "# Criando arrays usando NumPy\n",
        "x = np.arange(7, 16)   # Array de valores de 7 a 15\n",
        "y = np.arange(1, 18, 2)  # Array de valores ímpares de 1 a 17\n",
        "\n",
        "# Criando uma matriz combinando os arrays x e y\n",
        "z = np.column_stack((x[::-1], y))  # Combinação de x invertido e y\n",
        "\n",
        "# Imprimindo padrão de asteriscos com base nos valores de x e y\n",
        "for i, j in z:\n",
        "    print(' ' * i + '*' * j)\n",
        "\n",
        "# Imprimindo três linhas de separação\n",
        "for _ in range(3):\n",
        "    print(' ' * 13, ' || ')\n",
        "\n",
        "# Imprimindo uma linha final com uma barra invertida\n",
        "print(' ' * 12, end='\\======/')\n",
        "print('')\n"
      ],
      "metadata": {
        "colab": {
          "base_uri": "https://localhost:8080/"
        },
        "id": "iavs07mGQPNl",
        "outputId": "32cc74d0-f02c-45dc-f8b2-16257569e0a1"
      },
      "execution_count": 2,
      "outputs": [
        {
          "output_type": "stream",
          "name": "stdout",
          "text": [
            "               *\n",
            "              ***\n",
            "             *****\n",
            "            *******\n",
            "           *********\n",
            "          ***********\n",
            "         *************\n",
            "        ***************\n",
            "       *****************\n",
            "               || \n",
            "               || \n",
            "               || \n",
            "            \\======/\n"
          ]
        }
      ]
    }
  ]
}