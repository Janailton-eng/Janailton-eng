{
  "nbformat": 4,
  "nbformat_minor": 0,
  "metadata": {
    "colab": {
      "provenance": [],
      "authorship_tag": "ABX9TyNBu7zhbP2Ae/t7KmZtGduN",
      "include_colab_link": true
    },
    "kernelspec": {
      "name": "python3",
      "display_name": "Python 3"
    },
    "language_info": {
      "name": "python"
    }
  },
  "cells": [
    {
      "cell_type": "markdown",
      "metadata": {
        "id": "view-in-github",
        "colab_type": "text"
      },
      "source": [
        "<a href=\"https://colab.research.google.com/github/Janailton-eng/Janailton-eng/blob/main/Jornada_de_aprendizado_em_Ci%C3%AAncia_de_Dados.ipynb\" target=\"_parent\"><img src=\"https://colab.research.google.com/assets/colab-badge.svg\" alt=\"Open In Colab\"/></a>"
      ]
    },
    {
      "cell_type": "markdown",
      "source": [
        "#**Curso de Python para Data Science: primeiros passos**"
      ],
      "metadata": {
        "id": "ZIw5rj7cO7K1"
      }
    },
    {
      "cell_type": "markdown",
      "source": [
        "##**1.0 - Desafio** -> Coleta e amostragem de dados\n"
      ],
      "metadata": {
        "id": "8vAF_D59PRTZ"
      }
    },
    {
      "cell_type": "code",
      "execution_count": 1,
      "metadata": {
        "colab": {
          "base_uri": "https://localhost:8080/",
          "height": 53
        },
        "id": "DWSOk_dIMPfF",
        "outputId": "7efa6ee1-03af-44af-82ca-b3c6a90b2457"
      },
      "outputs": [
        {
          "name": "stdout",
          "output_type": "stream",
          "text": [
            "Escreva seu nome aqui: Janailton\n"
          ]
        },
        {
          "output_type": "execute_result",
          "data": {
            "text/plain": [
              "'Janailton'"
            ],
            "application/vnd.google.colaboratory.intrinsic+json": {
              "type": "string"
            }
          },
          "metadata": {},
          "execution_count": 1
        }
      ],
      "source": [
        "#1.Crie um programa que solicite à pessoa usuária digitar seu nome, e imprima “Olá, [nome]!”.\n",
        "\n",
        "input('Escreva seu nome aqui: ')"
      ]
    },
    {
      "cell_type": "code",
      "source": [
        "nome = \"Janailton Ferreira\"\n",
        "idade = 20\n",
        "print(f\"Olá seu nome é {nome} e sua idade é {idade} anos.\")"
      ],
      "metadata": {
        "colab": {
          "base_uri": "https://localhost:8080/"
        },
        "id": "ZjNdPFJvPitX",
        "outputId": "9db4de17-c1aa-4a4a-e1b7-7b9219c4fb64"
      },
      "execution_count": 2,
      "outputs": [
        {
          "output_type": "stream",
          "name": "stdout",
          "text": [
            "Olá seu nome é Janailton Ferreira e sua idade é 20 anos.\n"
          ]
        }
      ]
    },
    {
      "cell_type": "code",
      "source": [
        "comprimento = 80\n",
        "largura = 40\n",
        "print(f\"Olá seu terreno tem {comprimento} metros de comprimento e {largura} metros de largura.\"), print('Sua ária é de',largura*comprimento, 'metros quadrados.')"
      ],
      "metadata": {
        "colab": {
          "base_uri": "https://localhost:8080/"
        },
        "id": "nzixt6vmPxBb",
        "outputId": "20ab8784-7746-476c-df77-ffd79f8fb0a7"
      },
      "execution_count": 17,
      "outputs": [
        {
          "output_type": "stream",
          "name": "stdout",
          "text": [
            "Olá seu terreno tem 80 metros de comprimento e 40 metros de largura.\n",
            "Sua ária é de 3200 metros quadrados.\n"
          ]
        },
        {
          "output_type": "execute_result",
          "data": {
            "text/plain": [
              "(None, None)"
            ]
          },
          "metadata": {},
          "execution_count": 17
        }
      ]
    },
    {
      "cell_type": "code",
      "source": [
        "nome = 'Janailton Ferreira'\n",
        "idade = 20\n",
        "altura = 1.80\n",
        "print(f\"Olá {nome}, você tem {idade} anos e mede {altura} metros\")"
      ],
      "metadata": {
        "colab": {
          "base_uri": "https://localhost:8080/"
        },
        "id": "mgWoY_R4PxLQ",
        "outputId": "23ce707c-c913-4437-e703-7f32b5cd0f0c"
      },
      "execution_count": 16,
      "outputs": [
        {
          "output_type": "stream",
          "name": "stdout",
          "text": [
            "Olá Janailton Ferreira, você tem 20 anos e mede 1.8 metros\n"
          ]
        }
      ]
    },
    {
      "cell_type": "markdown",
      "source": [
        "## 1.1 - Coleta e amostragem de dados:\n"
      ],
      "metadata": {
        "id": "tFLCVDTtQAQo"
      }
    },
    {
      "cell_type": "code",
      "source": [
        "# 1.Crie um programa que solicite dois valores numéricos à pessoa usuária e imprima a soma dos dois valores.\n",
        "n1 = 2\n",
        "n2 = 5\n",
        "print(n1 + n2)"
      ],
      "metadata": {
        "colab": {
          "base_uri": "https://localhost:8080/"
        },
        "id": "fE7WftdFPxWa",
        "outputId": "6ea9203b-6fd3-4dbe-a024-6c78cbda44f2"
      },
      "execution_count": 15,
      "outputs": [
        {
          "output_type": "stream",
          "name": "stdout",
          "text": [
            "7\n"
          ]
        }
      ]
    },
    {
      "cell_type": "code",
      "source": [
        "# 2.Crie um programa que solicite três valores numéricos à pessoa usuária e imprima a soma dos três valores.\n",
        "n1 = 2\n",
        "n2 = 5\n",
        "n3 = 3\n",
        "print(n1 + n2 + n3)"
      ],
      "metadata": {
        "colab": {
          "base_uri": "https://localhost:8080/"
        },
        "id": "EKSg8trvQV4L",
        "outputId": "29a3b488-211c-4080-86a0-f9c1ae121504"
      },
      "execution_count": 14,
      "outputs": [
        {
          "output_type": "stream",
          "name": "stdout",
          "text": [
            "10\n"
          ]
        }
      ]
    },
    {
      "cell_type": "code",
      "source": [
        "# 3.Crie um programa que solicite dois valores numéricos à pessoa usuária e imprima a subtração do primeiro pelo o segundo valor.\n",
        "n1 = 2\n",
        "n2 = 5\n",
        "print(n1 - n2)"
      ],
      "metadata": {
        "colab": {
          "base_uri": "https://localhost:8080/"
        },
        "id": "3WQLnLRGQWDP",
        "outputId": "5b8e2f6a-6244-464b-b739-4f7ba56277b4"
      },
      "execution_count": 13,
      "outputs": [
        {
          "output_type": "stream",
          "name": "stdout",
          "text": [
            "-3\n"
          ]
        }
      ]
    },
    {
      "cell_type": "code",
      "source": [
        "# 4.Crie um programa que solicite dois valores numéricos à pessoa usuária e imprima a multiplicação dos dois valores.\n",
        "n1 = 2\n",
        "n2 = 5\n",
        "print(n1 * n2)"
      ],
      "metadata": {
        "colab": {
          "base_uri": "https://localhost:8080/"
        },
        "id": "uKe4-H7IQWGw",
        "outputId": "47ecc916-9d63-43d5-8480-8e3b3e65f536"
      },
      "execution_count": 12,
      "outputs": [
        {
          "output_type": "stream",
          "name": "stdout",
          "text": [
            "10\n"
          ]
        }
      ]
    },
    {
      "cell_type": "code",
      "source": [
        "# 5.Crie um programa que solicite dois valores numéricos, um numerador e um denominador, e realize a divisão entre os dois valores. Deixe claro que o valor do denominador não pode ser 0.\n",
        "n1 = 10\n",
        "n2 = 2\n",
        "print(n1 / n2)"
      ],
      "metadata": {
        "colab": {
          "base_uri": "https://localhost:8080/"
        },
        "id": "n70DJTpyQWJ9",
        "outputId": "2ed7cd2a-687d-427d-e528-e46aac106b9b"
      },
      "execution_count": 11,
      "outputs": [
        {
          "output_type": "stream",
          "name": "stdout",
          "text": [
            "5.0\n"
          ]
        }
      ]
    },
    {
      "cell_type": "code",
      "source": [
        "# 6.Crie um programa que solicite dois valores numéricos, um operador e uma potência, e realize a exponenciação entre esses dois valores.\n",
        "n1 = 2\n",
        "n2 = 2\n",
        "print(n1 ** n2)"
      ],
      "metadata": {
        "colab": {
          "base_uri": "https://localhost:8080/"
        },
        "id": "2hpbpYRQQf-l",
        "outputId": "7bb945db-de2d-4a14-b3b9-ef4e441836a5"
      },
      "execution_count": 10,
      "outputs": [
        {
          "output_type": "stream",
          "name": "stdout",
          "text": [
            "4\n"
          ]
        }
      ]
    },
    {
      "cell_type": "code",
      "source": [
        "# 7.Crie um programa que solicite dois valores numéricos, um numerador e um denominador e realize a divisão inteira entre os dois valores. Deixe claro que o valor do denominador não pode ser 0.\n",
        "n1 = 50\n",
        "n2 = 3\n",
        "print(n1 // n2)"
      ],
      "metadata": {
        "colab": {
          "base_uri": "https://localhost:8080/"
        },
        "id": "x36lvPFNQgBo",
        "outputId": "b342fb88-dd0d-429a-d0aa-3d293b00f513"
      },
      "execution_count": 9,
      "outputs": [
        {
          "output_type": "stream",
          "name": "stdout",
          "text": [
            "16\n"
          ]
        }
      ]
    },
    {
      "cell_type": "code",
      "source": [
        "# 8.Crie um programa que solicite dois valores numéricos, um numerador e um denominador, e retorne o resto da divisão entre os dois valores. Deixe claro que o valor do denominador não pode ser 0.\n",
        "n1 = 5\n",
        "n2 = 2\n",
        "print(n1 % n2)"
      ],
      "metadata": {
        "colab": {
          "base_uri": "https://localhost:8080/"
        },
        "id": "Y5jZuHkuQgGK",
        "outputId": "7b471595-1bdf-44b1-af1f-2dab733bcdb2"
      },
      "execution_count": 8,
      "outputs": [
        {
          "output_type": "stream",
          "name": "stdout",
          "text": [
            "1\n"
          ]
        }
      ]
    },
    {
      "cell_type": "code",
      "source": [
        "# 9.Crie um código que solicita 3 notas de um estudante e imprima a média das notas.\n",
        "n1 = 5\n",
        "n2 = 2\n",
        "n3 = 8\n",
        "print((n1 + n2 + n3)/(3))"
      ],
      "metadata": {
        "colab": {
          "base_uri": "https://localhost:8080/"
        },
        "id": "k9Xua_pIQmmh",
        "outputId": "1366fb6a-d0e3-42ec-d9b2-f3c0b5319b95"
      },
      "execution_count": 7,
      "outputs": [
        {
          "output_type": "stream",
          "name": "stdout",
          "text": [
            "5.0\n"
          ]
        }
      ]
    },
    {
      "cell_type": "code",
      "source": [
        "# 10.Crie um código que calcule e imprima a média ponderada dos números 5, 12, 20 e 15 com pesos respectivamente iguais a 1, 2, 3 e 4.\n",
        "n1 = 5\n",
        "n2 = 12\n",
        "n3 = 20\n",
        "n4 = 15\n",
        "\n",
        "p1 = 1\n",
        "p2 = 2\n",
        "p3 = 3\n",
        "p4 = 4\n",
        "print(((n1 * p1) + (n2 * p2) + (n3 * p3) + (n4 * p4))/(p1 + p2 + p3 + p4))"
      ],
      "metadata": {
        "colab": {
          "base_uri": "https://localhost:8080/"
        },
        "id": "IRXI1G4eQmpl",
        "outputId": "39443d0d-9cd5-4cb7-cb10-40dffd461741"
      },
      "execution_count": 6,
      "outputs": [
        {
          "output_type": "stream",
          "name": "stdout",
          "text": [
            "14.9\n"
          ]
        }
      ]
    },
    {
      "cell_type": "markdown",
      "source": [
        "## 1.2 - Editando textos:"
      ],
      "metadata": {
        "id": "jo5C5u3EQq6Q"
      }
    },
    {
      "cell_type": "code",
      "source": [
        "# 1.Crie uma variável chamada “frase” e atribua a ela uma string de sua escolha. Em seguida, imprima a frase na tela.\n",
        "frase ="
      ],
      "metadata": {
        "colab": {
          "base_uri": "https://localhost:8080/",
          "height": 130
        },
        "id": "RMrSixLdQ4VX",
        "outputId": "ecfb98d6-52a0-40d9-d9e2-f0f0582511ab"
      },
      "execution_count": 5,
      "outputs": [
        {
          "output_type": "error",
          "ename": "SyntaxError",
          "evalue": "ignored",
          "traceback": [
            "\u001b[0;36m  File \u001b[0;32m\"<ipython-input-5-16f1c41a9eb6>\"\u001b[0;36m, line \u001b[0;32m2\u001b[0m\n\u001b[0;31m    frase =\u001b[0m\n\u001b[0m           ^\u001b[0m\n\u001b[0;31mSyntaxError\u001b[0m\u001b[0;31m:\u001b[0m invalid syntax\n"
          ]
        }
      ]
    },
    {
      "cell_type": "code",
      "source": [
        "# 2.Crie um código que solicite uma frase e depois imprima a frase na tela.\n"
      ],
      "metadata": {
        "id": "wxEgisz2Q8yB"
      },
      "execution_count": 4,
      "outputs": []
    }
  ]
}