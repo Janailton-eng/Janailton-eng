{
  "nbformat": 4,
  "nbformat_minor": 0,
  "metadata": {
    "colab": {
      "provenance": [],
      "authorship_tag": "ABX9TyPlnE/7o643wBE5s3rLZ7Jd",
      "include_colab_link": true
    },
    "kernelspec": {
      "name": "python3",
      "display_name": "Python 3"
    },
    "language_info": {
      "name": "python"
    }
  },
  "cells": [
    {
      "cell_type": "markdown",
      "metadata": {
        "id": "view-in-github",
        "colab_type": "text"
      },
      "source": [
        "<a href=\"https://colab.research.google.com/github/Janailton-eng/Janailton-eng/blob/main/Jornada_de_aprendizado_em_Ci%C3%AAncia_de_Dados.ipynb\" target=\"_parent\"><img src=\"https://colab.research.google.com/assets/colab-badge.svg\" alt=\"Open In Colab\"/></a>"
      ]
    },
    {
      "cell_type": "markdown",
      "source": [
        "#**Curso de Python para Data Science: primeiros passos**"
      ],
      "metadata": {
        "id": "ZIw5rj7cO7K1"
      }
    },
    {
      "cell_type": "markdown",
      "source": [
        "##**1.0 - Desafio**.\n"
      ],
      "metadata": {
        "id": "8vAF_D59PRTZ"
      }
    },
    {
      "cell_type": "code",
      "execution_count": null,
      "metadata": {
        "colab": {
          "base_uri": "https://localhost:8080/"
        },
        "id": "DWSOk_dIMPfF",
        "outputId": "91d7c4a1-8887-44f9-9a25-6c212de79ec9"
      },
      "outputs": [
        {
          "output_type": "stream",
          "name": "stdout",
          "text": [
            "Digite seu nome: Janailton\n",
            "olá, Janailton.\n"
          ]
        }
      ],
      "source": [
        "#1.Crie um programa que solicite à pessoa usuária digitar seu nome, e imprima “Olá, [nome]!”.\n",
        "\n",
        "nome = input('Digite seu nome: ')\n",
        "print(f'olá, {nome}.')"
      ]
    },
    {
      "cell_type": "code",
      "source": [
        "nome = \"Janailton Ferreira\"\n",
        "idade = 20\n",
        "print(f\"Olá seu nome é {nome} e sua idade é {idade} anos.\")"
      ],
      "metadata": {
        "colab": {
          "base_uri": "https://localhost:8080/"
        },
        "id": "ZjNdPFJvPitX",
        "outputId": "74d2b588-868c-488c-d531-5fde71feb9c3"
      },
      "execution_count": null,
      "outputs": [
        {
          "output_type": "stream",
          "name": "stdout",
          "text": [
            "Digite seu nome: Janailton\n",
            "Digite sua idade: 20\n",
            "Olá Janailton, você tem 20 anos.\n"
          ]
        }
      ]
    },
    {
      "cell_type": "code",
      "source": [
        "comprimento = 80\n",
        "largura = 40\n",
        "print(f\"Olá seu terreno tem {comprimento} metros de comprimento e {largura} metros de largura.\"), print('Sua ária é de',largura*comprimento, 'metros quadrados.')"
      ],
      "metadata": {
        "colab": {
          "base_uri": "https://localhost:8080/"
        },
        "id": "nzixt6vmPxBb",
        "outputId": "20ab8784-7746-476c-df77-ffd79f8fb0a7"
      },
      "execution_count": null,
      "outputs": [
        {
          "output_type": "stream",
          "name": "stdout",
          "text": [
            "Olá seu terreno tem 80 metros de comprimento e 40 metros de largura.\n",
            "Sua ária é de 3200 metros quadrados.\n"
          ]
        },
        {
          "output_type": "execute_result",
          "data": {
            "text/plain": [
              "(None, None)"
            ]
          },
          "metadata": {},
          "execution_count": 17
        }
      ]
    },
    {
      "cell_type": "code",
      "source": [
        "nome = 'Janailton Ferreira'\n",
        "idade = 20\n",
        "altura = 1.80\n",
        "print(f\"Olá {nome}, você tem {idade} anos e mede {altura} metros\")"
      ],
      "metadata": {
        "colab": {
          "base_uri": "https://localhost:8080/"
        },
        "id": "mgWoY_R4PxLQ",
        "outputId": "23ce707c-c913-4437-e703-7f32b5cd0f0c"
      },
      "execution_count": null,
      "outputs": [
        {
          "output_type": "stream",
          "name": "stdout",
          "text": [
            "Olá Janailton Ferreira, você tem 20 anos e mede 1.8 metros\n"
          ]
        }
      ]
    },
    {
      "cell_type": "markdown",
      "source": [
        "## 1.1 - Coleta e amostragem de dados:\n"
      ],
      "metadata": {
        "id": "tFLCVDTtQAQo"
      }
    },
    {
      "cell_type": "code",
      "source": [
        "# 1.Crie um programa que solicite à pessoa usuária digitar seu nome, e imprima “Olá, [nome]!”.\n",
        "nome = input('Digite seu nome: ')\n",
        "print(f'Olá, {nome}.')"
      ],
      "metadata": {
        "colab": {
          "base_uri": "https://localhost:8080/"
        },
        "id": "OSFgzZgpCYU8",
        "outputId": "d3760871-657a-4b0a-ca1c-e3175e4697fc"
      },
      "execution_count": null,
      "outputs": [
        {
          "output_type": "stream",
          "name": "stdout",
          "text": [
            "Digite seu nome: Janailton\n",
            "Olá, Janailton.\n"
          ]
        }
      ]
    },
    {
      "cell_type": "code",
      "source": [
        "# 2.Crie um programa que solicite à pessoa usuária digitar seu nome e idade, e imprima “Olá, [nome], você tem [idade] anos.”.\n",
        "nome = input('Digite seu nome: ')\n",
        "idade = int(input('Digite sua idade: '))\n",
        "print(f'Olá {nome}, você tem {idade} anos.')"
      ],
      "metadata": {
        "colab": {
          "base_uri": "https://localhost:8080/"
        },
        "id": "kD6IiJZYCiOm",
        "outputId": "8e344965-3acb-422a-bcd3-6005c2cb52e0"
      },
      "execution_count": null,
      "outputs": [
        {
          "output_type": "stream",
          "name": "stdout",
          "text": [
            "Digite seu nome: Janailton\n",
            "Digite sua idade: 20\n",
            "Olá Janailton, você tem 20 anos.\n"
          ]
        }
      ]
    },
    {
      "cell_type": "markdown",
      "source": [
        "## 1.2 Calculadora com operadores:"
      ],
      "metadata": {
        "id": "whVVLmNSB9y4"
      }
    },
    {
      "cell_type": "code",
      "source": [
        "# 1.Crie um programa que solicite dois valores numéricos à pessoa usuária e imprima a soma dos dois valores.\n",
        "a = int(input('Digite o primeiro valor: '))\n",
        "b = int(input('Digite o segundo valor: '))\n",
        "print(a+b)"
      ],
      "metadata": {
        "colab": {
          "base_uri": "https://localhost:8080/"
        },
        "id": "fE7WftdFPxWa",
        "outputId": "c9258a0c-54a9-4307-e09d-31d6382310d2"
      },
      "execution_count": null,
      "outputs": [
        {
          "output_type": "stream",
          "name": "stdout",
          "text": [
            "Digite o primeiro valor: 8\n",
            "Digite o segundo valor: 2\n",
            "10\n"
          ]
        }
      ]
    },
    {
      "cell_type": "code",
      "source": [
        "# 2.Crie um programa que solicite três valores numéricos à pessoa usuária e imprima a soma dos três valores.\n",
        "a = int(input('Digite o primeiro valor: '))\n",
        "b = int(input('Digite o segundo valor: '))\n",
        "c = int(input('Digite o terceiro valor: '))\n",
        "print(a+b+c)"
      ],
      "metadata": {
        "colab": {
          "base_uri": "https://localhost:8080/"
        },
        "id": "EKSg8trvQV4L",
        "outputId": "9b53767c-f28a-42a0-a188-cd2dbd4f15ed"
      },
      "execution_count": null,
      "outputs": [
        {
          "output_type": "stream",
          "name": "stdout",
          "text": [
            "Digite o primeiro valor: 1\n",
            "Digite o segundo valor: 2\n",
            "Digite o terceiro valor: 3\n",
            "6\n"
          ]
        }
      ]
    },
    {
      "cell_type": "code",
      "source": [
        "# 3.Crie um programa que solicite dois valores numéricos à pessoa usuária e imprima a subtração do primeiro pelo o segundo valor.\n",
        "a = int(input('Digite seu primeiro valor: '))\n",
        "b = int(input('Digite seu primeiro valor: '))\n",
        "print(a-b)"
      ],
      "metadata": {
        "colab": {
          "base_uri": "https://localhost:8080/"
        },
        "id": "3WQLnLRGQWDP",
        "outputId": "43df5efa-1ce7-482a-b89a-1b71ae676ada"
      },
      "execution_count": null,
      "outputs": [
        {
          "output_type": "stream",
          "name": "stdout",
          "text": [
            "Digite seu primeiro valor: 5\n",
            "Digite seu primeiro valor: 3\n",
            "2\n"
          ]
        }
      ]
    },
    {
      "cell_type": "code",
      "source": [
        "# 4.Crie um programa que solicite dois valores numéricos à pessoa usuária e imprima a multiplicação dos dois valores.\n",
        "a = int(input('Digite seu primeiro valor: '))\n",
        "b = int(input('Digite seu primeiro valor: '))\n",
        "print(a*b)"
      ],
      "metadata": {
        "colab": {
          "base_uri": "https://localhost:8080/"
        },
        "id": "uKe4-H7IQWGw",
        "outputId": "6496d340-25c4-464d-e3bb-020b28f751a9"
      },
      "execution_count": null,
      "outputs": [
        {
          "output_type": "stream",
          "name": "stdout",
          "text": [
            "Digite seu primeiro valor: 2\n",
            "Digite seu primeiro valor: 3\n",
            "6\n"
          ]
        }
      ]
    },
    {
      "cell_type": "code",
      "source": [
        "# 5.Crie um programa que solicite dois valores numéricos, um numerador e um denominador, e realize a divisão entre os dois valores. Deixe claro que o valor do denominador não pode ser 0.\n",
        "numerador = int(input('Digite o numerador: '))\n",
        "denominador = int(input('Digite o denominador (OBS: o valor não pode ser nulo): '))\n",
        "print(numerador/denominador)"
      ],
      "metadata": {
        "colab": {
          "base_uri": "https://localhost:8080/"
        },
        "id": "n70DJTpyQWJ9",
        "outputId": "7bb1f4e4-747d-430f-dcb4-9d258f22f71a"
      },
      "execution_count": null,
      "outputs": [
        {
          "output_type": "stream",
          "name": "stdout",
          "text": [
            "Digite o numerador: 10\n",
            "Digite o denominador (OBS: o valor não pode ser nulo): 2\n",
            "5.0\n"
          ]
        }
      ]
    },
    {
      "cell_type": "code",
      "source": [
        "# 6.Crie um programa que solicite dois valores numéricos, um operador e uma potência, e realize a exponenciação entre esses dois valores.\n",
        "operador = int(input('Digite o numerador: '))\n",
        "potencia = int(input('Digite o denominador (OBS: o valor não pode ser nulo): '))\n",
        "print(operador**potencia)"
      ],
      "metadata": {
        "colab": {
          "base_uri": "https://localhost:8080/"
        },
        "id": "2hpbpYRQQf-l",
        "outputId": "bfc665c9-6a94-45bf-bdf1-6993dfbd3f22"
      },
      "execution_count": null,
      "outputs": [
        {
          "output_type": "stream",
          "name": "stdout",
          "text": [
            "Digite o numerador: 2\n",
            "Digite o denominador (OBS: o valor não pode ser nulo): 3\n",
            "8\n"
          ]
        }
      ]
    },
    {
      "cell_type": "code",
      "source": [
        "# 7.Crie um programa que solicite dois valores numéricos, um numerador e um denominador e realize a divisão inteira entre os dois valores. Deixe claro que o valor do denominador não pode ser 0.\n",
        "numerador = int(input('Digite o numerador: '))\n",
        "denominador = int(input('Digite o denominador (OBS: o valor não pode ser nulo): '))\n",
        "print(numerador//denominador)"
      ],
      "metadata": {
        "colab": {
          "base_uri": "https://localhost:8080/"
        },
        "id": "x36lvPFNQgBo",
        "outputId": "ac7670ed-f132-43f0-b0f0-b12985dc3e9d"
      },
      "execution_count": null,
      "outputs": [
        {
          "output_type": "stream",
          "name": "stdout",
          "text": [
            "Digite o numerador: 10\n",
            "Digite o denominador (OBS: o valor não pode ser nulo): 2\n",
            "5\n"
          ]
        }
      ]
    },
    {
      "cell_type": "code",
      "source": [
        "# 8.Crie um programa que solicite dois valores numéricos, um numerador e um denominador, e retorne o resto da divisão entre os dois valores. Deixe claro que o valor do denominador não pode ser 0.\n",
        "numerador = int(input('Digite o numerador: '))\n",
        "denominador = int(input('Digite o denominador (OBS: o valor não pode ser nulo): '))\n",
        "print(numerador%denominador)"
      ],
      "metadata": {
        "colab": {
          "base_uri": "https://localhost:8080/"
        },
        "id": "Y5jZuHkuQgGK",
        "outputId": "32bb6381-d9e6-4e24-bde2-b73c920b2c2d"
      },
      "execution_count": null,
      "outputs": [
        {
          "output_type": "stream",
          "name": "stdout",
          "text": [
            "Digite o numerador: 10\n",
            "Digite o denominador (OBS: o valor não pode ser nulo): 2\n",
            "0\n"
          ]
        }
      ]
    },
    {
      "cell_type": "code",
      "source": [
        "# 9.Crie um código que solicita 3 notas de um estudante e imprima a média das notas.\n",
        "nota_1 = float(input('Digite a 1° nota: '))\n",
        "nota_2 = float(input('Digite a 2° nota: '))\n",
        "nota_3 = float(input('Digite a 3° nota: '))\n",
        "print((f'Média {(nota_1+nota_2+nota_3/3)}'))"
      ],
      "metadata": {
        "colab": {
          "base_uri": "https://localhost:8080/"
        },
        "id": "k9Xua_pIQmmh",
        "outputId": "c335f122-37fe-4cd3-8962-0bf007d390b5"
      },
      "execution_count": null,
      "outputs": [
        {
          "output_type": "stream",
          "name": "stdout",
          "text": [
            "Digite a 1° nota: 10\n",
            "Digite a 2° nota: 10\n",
            "Digite a 3° nota: 8\n",
            "Média 22.666666666666668\n"
          ]
        }
      ]
    },
    {
      "cell_type": "code",
      "source": [
        "# 10.Crie um código que calcule e imprima a média ponderada dos números 5, 12, 20 e 15 com pesos respectivamente iguais a 1, 2, 3 e 4.\n",
        "media_ponderada = (5*1 + 12*2 + 20*3 + 15*4) / (1+2+3+4)\n",
        "print(f'Média {media_ponderada}.')"
      ],
      "metadata": {
        "colab": {
          "base_uri": "https://localhost:8080/"
        },
        "id": "IRXI1G4eQmpl",
        "outputId": "36c4688f-6662-49b2-bfd3-b5dacf9acfcb"
      },
      "execution_count": null,
      "outputs": [
        {
          "output_type": "stream",
          "name": "stdout",
          "text": [
            "Média 14.9.\n"
          ]
        }
      ]
    },
    {
      "cell_type": "markdown",
      "source": [
        "## 1.3 - Editando textos:"
      ],
      "metadata": {
        "id": "jo5C5u3EQq6Q"
      }
    },
    {
      "cell_type": "code",
      "source": [
        "# 1.Crie uma variável chamada “frase” e atribua a ela uma string de sua escolha. Em seguida, imprima a frase na tela.\n",
        "frase = 'Olá Python!'\n",
        "print(frase)"
      ],
      "metadata": {
        "colab": {
          "base_uri": "https://localhost:8080/"
        },
        "id": "RMrSixLdQ4VX",
        "outputId": "b33ccc9e-4da4-48f4-c71b-e0fe196d0653"
      },
      "execution_count": null,
      "outputs": [
        {
          "output_type": "stream",
          "name": "stdout",
          "text": [
            "Olá Python!\n"
          ]
        }
      ]
    },
    {
      "cell_type": "code",
      "source": [
        "# 2.Crie um código que solicite uma frase e depois imprima a frase na tela.\n",
        "frase = input('Digite uma frase: ')\n",
        "print(frase)"
      ],
      "metadata": {
        "id": "wxEgisz2Q8yB",
        "colab": {
          "base_uri": "https://localhost:8080/"
        },
        "outputId": "511a1600-5695-462d-e302-7dfc29a300d2"
      },
      "execution_count": null,
      "outputs": [
        {
          "output_type": "stream",
          "name": "stdout",
          "text": [
            "Digite uma frase: Olá mundo!\n",
            "Olá mundo!\n"
          ]
        }
      ]
    },
    {
      "cell_type": "code",
      "source": [
        "# 3.Crie um código que solicite uma frase à pessoa usuária e imprima a mesma frase digitada mas com todas as letras maiúsculas.\n",
        "frase = input('Digite uma frase: ')\n",
        "print(frase.upper())"
      ],
      "metadata": {
        "colab": {
          "base_uri": "https://localhost:8080/"
        },
        "id": "vGmewCUwJpn9",
        "outputId": "d0a3b605-b9ea-4944-e99e-5aa4d0f7160e"
      },
      "execution_count": null,
      "outputs": [
        {
          "output_type": "stream",
          "name": "stdout",
          "text": [
            "Digite uma frase: Janailton - engenheiro eletricista\n",
            "JANAILTON - ENGENHEIRO ELETRICISTA\n"
          ]
        }
      ]
    },
    {
      "cell_type": "code",
      "source": [
        "# 4.Crie um código que solicite uma frase à pessoa usuária e imprima a mesma frase digitada mas com todas as letras minúsculas.\n",
        "frase = input('Digite uma frase: ')\n",
        "print(frase.lower())"
      ],
      "metadata": {
        "colab": {
          "base_uri": "https://localhost:8080/"
        },
        "id": "Au0gT2-xJprZ",
        "outputId": "97a59f8d-7e11-4e18-d6e1-02a52c30d591"
      },
      "execution_count": null,
      "outputs": [
        {
          "output_type": "stream",
          "name": "stdout",
          "text": [
            "Digite uma frase: JANAILTON - ENGENHEIRO ELETRICISTA\n",
            "janailton - engenheiro eletricista\n"
          ]
        }
      ]
    },
    {
      "cell_type": "code",
      "source": [
        "# 5.Crie uma variável chamada “frase” e atribua a ela uma string de sua escolha. Em seguida, imprima a frase sem espaços em branco no início e no fim.\n",
        "frase = ' olá Python!  '\n",
        "print(frase.strip())"
      ],
      "metadata": {
        "colab": {
          "base_uri": "https://localhost:8080/"
        },
        "id": "R4DGj7gGJpwz",
        "outputId": "8ff951bf-9ade-470a-e134-f8b453ff527b"
      },
      "execution_count": null,
      "outputs": [
        {
          "output_type": "stream",
          "name": "stdout",
          "text": [
            "olá Python!\n"
          ]
        }
      ]
    },
    {
      "cell_type": "code",
      "source": [
        "# 6.Crie um código que solicite uma frase à pessoa usuária e imprima a mesma frase sem espaços em branco no início e no fim.\n",
        "frase = input('Digite uma frase: ')\n",
        "print(frase.strip())"
      ],
      "metadata": {
        "colab": {
          "base_uri": "https://localhost:8080/"
        },
        "id": "wXuPX3gdJp1X",
        "outputId": "b494ac08-3472-4074-facd-66b6507102c6"
      },
      "execution_count": null,
      "outputs": [
        {
          "output_type": "stream",
          "name": "stdout",
          "text": [
            "Digite uma frase:  Ferreira \n",
            "Ferreira\n"
          ]
        }
      ]
    },
    {
      "cell_type": "code",
      "source": [
        "# 7.Crie um código que solicite uma frase à pessoa usuária e imprima a mesma frase sem espaços em branco no início e no fim e em letras minúsculas.\n",
        "frase = input('Digite uma frase: ')\n",
        "print(frase.strip().lower())"
      ],
      "metadata": {
        "colab": {
          "base_uri": "https://localhost:8080/"
        },
        "id": "t0CxAjeiJp4Y",
        "outputId": "517ede8a-73d9-47bd-bd83-0611615259d1"
      },
      "execution_count": null,
      "outputs": [
        {
          "output_type": "stream",
          "name": "stdout",
          "text": [
            "Digite uma frase:  JANAILTON - ENGENHEIRO ELETRICISTA \n",
            "janailton - engenheiro eletricista\n"
          ]
        }
      ]
    },
    {
      "cell_type": "code",
      "source": [
        "# 8.Crie um código que solicite uma frase à pessoa usuária e imprima a mesma frase com todas as vogais “e” trocadas pela letra “f”.\n",
        "frase = input('Digite uma frase: ')\n",
        "print(frase.lower().replace('e','f'))"
      ],
      "metadata": {
        "colab": {
          "base_uri": "https://localhost:8080/"
        },
        "id": "6hGLcxVNJsaT",
        "outputId": "ff0a60f3-0bd1-4130-ae10-7b646dd10c30"
      },
      "execution_count": null,
      "outputs": [
        {
          "output_type": "stream",
          "name": "stdout",
          "text": [
            "Digite uma frase: ELEFANTE\n",
            "flffantf\n"
          ]
        }
      ]
    },
    {
      "cell_type": "code",
      "source": [
        "# 9.Crie um código que solicite uma frase à pessoa usuária e imprima a mesma frase com todas as vogais “a” trocadas pela caractere “@”.\n",
        "frase = input('Digite uma frase: ')\n",
        "print(frase.lower().replace('a',chr(64)))"
      ],
      "metadata": {
        "colab": {
          "base_uri": "https://localhost:8080/"
        },
        "id": "auvbbCfSJsdI",
        "outputId": "5d491ef4-1ce6-4e2b-cf75-2871592a8a74"
      },
      "execution_count": null,
      "outputs": [
        {
          "output_type": "stream",
          "name": "stdout",
          "text": [
            "Digite uma frase: AMOR\n",
            "@mor\n"
          ]
        }
      ]
    },
    {
      "cell_type": "code",
      "source": [
        "# 10.Crie um código que solicite uma frase à pessoa usuária e imprima a mesma frase com todas as consoantes “s” trocadas pelo caractere “$”.\n",
        "frase = input('Digite uma frase: ')\n",
        "print(frase.lower().replace('s',chr(36)))"
      ],
      "metadata": {
        "colab": {
          "base_uri": "https://localhost:8080/"
        },
        "id": "VgFeA_9xJst_",
        "outputId": "82692bd9-3d0d-424c-85f0-c37ccd0c708d"
      },
      "execution_count": null,
      "outputs": [
        {
          "output_type": "stream",
          "name": "stdout",
          "text": [
            "Digite uma frase: SUCESSO\n",
            "$uce$$o\n"
          ]
        }
      ]
    },
    {
      "cell_type": "markdown",
      "source": [
        "#**2.0 - Estruturas condicionais:**"
      ],
      "metadata": {
        "id": "BCqX9oAFS_K8"
      }
    },
    {
      "cell_type": "markdown",
      "source": [
        "##Operadores relacionais(exemplos):\n"
      ],
      "metadata": {
        "id": "4KORO_6wWdNr"
      }
    },
    {
      "cell_type": "code",
      "source": [
        "# Maior que (>):\n",
        "idade_maria = int(input('Digite a idade da Maria: '))\n",
        "idade_beatriz = int(input('Digite a idade da Beatriz: '))\n",
        "\n",
        "if idade_maria > idade_beatriz:\n",
        "  print('Maria é mais velha que Beateiz.')\n"
      ],
      "metadata": {
        "colab": {
          "base_uri": "https://localhost:8080/"
        },
        "id": "oftlEFruVdvO",
        "outputId": "06fdff65-4785-40a2-c763-5c1a76c9b377"
      },
      "execution_count": 1,
      "outputs": [
        {
          "output_type": "stream",
          "name": "stdout",
          "text": [
            "Digite a idade da Maria: 12\n",
            "Digite a idade da Beatriz: 10\n",
            "Maria é mais velha que Beateiz.\n"
          ]
        }
      ]
    },
    {
      "cell_type": "code",
      "source": [
        "# Menor que (<):\n",
        "idade_maria = int(input('Digite a idade da Maria: '))\n",
        "idade_beatriz = int(input('Digite a idade da Beatriz: '))\n",
        "\n",
        "if idade_maria < idade_beatriz:\n",
        "  print('Maria é mais nova que Beatriz.')"
      ],
      "metadata": {
        "colab": {
          "base_uri": "https://localhost:8080/"
        },
        "id": "0QNJ2LWCWS9K",
        "outputId": "3e8bc098-6f26-4bd8-b8d1-cd768da5429f"
      },
      "execution_count": 2,
      "outputs": [
        {
          "output_type": "stream",
          "name": "stdout",
          "text": [
            "Digite a idade da Maria: 30\n",
            "Digite a idade da Beatriz: 34\n",
            "Maria é mais nova que Beatriz.\n"
          ]
        }
      ]
    },
    {
      "cell_type": "code",
      "source": [
        "# Maior ou igual a (>=):\n",
        "empregados_empresa_1 = int(input('Digite a quantidade de empregados da empresa 1: '))\n",
        "empregados_empresa_2 = int(input('Digite a quantidade de empregados da empresa 2: '))\n",
        "\n",
        "if empregados_empresa_1 >= empregados_empresa_2:\n",
        "  print('Empresa 1 tem uma quantidade de empregados maior ou igual à empresa 2.')"
      ],
      "metadata": {
        "colab": {
          "base_uri": "https://localhost:8080/"
        },
        "id": "0WSshcYhW80J",
        "outputId": "97ac56df-6ab8-4a80-f10b-d274d74e5974"
      },
      "execution_count": 4,
      "outputs": [
        {
          "name": "stdout",
          "output_type": "stream",
          "text": [
            "Digite a quantidade de empregados da empresa 1: 1300\n",
            "Digite a quantidade de empregados da empresa 2: 2150\n"
          ]
        }
      ]
    },
    {
      "cell_type": "code",
      "source": [
        "# Menor ou igual a (<=):\n",
        "empregados_empresa_1 = int(input('Digite a quantidade de empregados da empresa 1: '))\n",
        "empregados_empresa_2 = int(input('Digite a quantidade de empregados da empresa 2: '))\n",
        "\n",
        "if empregados_empresa_1 <= empregados_empresa_2:\n",
        "  print('Empresa 1 tem uma quantidade de empregados menor ou igual à empresa 2.')"
      ],
      "metadata": {
        "colab": {
          "base_uri": "https://localhost:8080/"
        },
        "id": "twVYrmuFXSjh",
        "outputId": "f5eebeed-51d0-466d-dc88-4e66edfa6b47"
      },
      "execution_count": 6,
      "outputs": [
        {
          "output_type": "stream",
          "name": "stdout",
          "text": [
            "Digite a quantidade de empregados da empresa 1: 1200\n",
            "Digite a quantidade de empregados da empresa 2: 2200\n",
            "Empresa 1 tem uma quantidade de empregados menor ou igual à empresa 2.\n"
          ]
        }
      ]
    },
    {
      "cell_type": "code",
      "source": [
        "# Igual a (==):\n",
        "livro_1 = input('Digite o título do 1° livro: ')\n",
        "livro_2 = input('Digite o título do 2° livro: ')\n",
        "\n",
        "if livro_1 == livro_2:\n",
        "  print('Os livros têm o mesmo título')\n"
      ],
      "metadata": {
        "colab": {
          "base_uri": "https://localhost:8080/"
        },
        "id": "dE1XuWVwXt_h",
        "outputId": "1318c260-cc0c-4bcc-80e7-e352cb8fb8c1"
      },
      "execution_count": 7,
      "outputs": [
        {
          "output_type": "stream",
          "name": "stdout",
          "text": [
            "Digite o título do 1° livro: Verso e Código: A poética da programação\n",
            "Digite o título do 2° livro: Verso e Código: A poética da programação\n",
            "Os livros têm o mesmo título\n"
          ]
        }
      ]
    },
    {
      "cell_type": "code",
      "source": [
        "# Diferente de (!=):\n",
        "livro_1 = input('Digite o título do 1° livro: ')\n",
        "livro_2 = input('Digite o título do 2° livro: ')\n",
        "\n",
        "if livro_1 != livro_2:\n",
        "  print('Os livros têm títulos diferentes')"
      ],
      "metadata": {
        "colab": {
          "base_uri": "https://localhost:8080/"
        },
        "id": "SejQLaDTYRNA",
        "outputId": "a6cf5cce-b97f-4ef4-8964-1b3773f135f6"
      },
      "execution_count": 8,
      "outputs": [
        {
          "output_type": "stream",
          "name": "stdout",
          "text": [
            "Digite o título do 1° livro: A poética da programação\n",
            "Digite o título do 2° livro: A poesia do código\n",
            "Os livros têm títulos diferentes\n"
          ]
        }
      ]
    },
    {
      "cell_type": "code",
      "source": [],
      "metadata": {
        "id": "An3NOkDOYkwj"
      },
      "execution_count": null,
      "outputs": []
    }
  ]
}